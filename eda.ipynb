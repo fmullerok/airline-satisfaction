{
 "cells": [
  {
   "cell_type": "markdown",
   "id": "d91c9ad1-9d5b-49f7-9123-b39148d4e3b5",
   "metadata": {},
   "source": [
    "# ✈️ Predicción de Satisfacción de Pasajeros en Aerolíneas\n",
    "\n",
    "En este trabajo práctico se abordará un problema de **clasificación binaria** utilizando un dataset que contiene evaluaciones de pasajeros sobre su experiencia en vuelos de aerolíneas.\n",
    "\n",
    "El objetivo es desarrollar un modelo de *machine learning* que permita **predecir si un pasajero está satisfecho o no**, en base a múltiples factores, tales como:\n",
    "\n",
    "- Tipo de viaje (`Type of Travel`)\n",
    "- Clase del boleto (`Class`)\n",
    "- Comodidad del asiento (`Seat comfort`)\n",
    "- Servicio de WiFi a bordo (`Inflight wifi service`)\n",
    "- Proceso de embarque online (`Online boarding`)\n",
    "- Retrasos en salida o llegada (`Departure/Arrival Delay in Minutes`)\n",
    "\n",
    "> 💡 **Motivación:** Este tipo de solución puede ser útil para aerolíneas que buscan **mejorar la experiencia del cliente**, identificar puntos críticos en sus servicios y **anticiparse a malas experiencias** mediante alertas o intervenciones proactivas."
   ]
  },
  {
   "cell_type": "markdown",
   "id": "a34d1229-ecf4-4d64-8372-df787f0abddb",
   "metadata": {},
   "source": [
    "## EDA (Exploratory Data Analysis)"
   ]
  },
  {
   "cell_type": "code",
   "execution_count": 1,
   "id": "8c96ceb6-6d09-418b-895c-e4ecf5f8b1db",
   "metadata": {},
   "outputs": [],
   "source": [
    "import pandas as pd\n",
    "import matplotlib.pyplot as plt\n",
    "import seaborn as sns\n",
    "\n",
    "# Configuraciones estéticas\n",
    "sns.set(style=\"whitegrid\")\n",
    "plt.style.use(\"ggplot\")"
   ]
  },
  {
   "cell_type": "code",
   "execution_count": 2,
   "id": "80e88314-f184-40ad-819a-0a16073a8cf6",
   "metadata": {},
   "outputs": [
    {
     "data": {
      "text/html": [
       "<div>\n",
       "<style scoped>\n",
       "    .dataframe tbody tr th:only-of-type {\n",
       "        vertical-align: middle;\n",
       "    }\n",
       "\n",
       "    .dataframe tbody tr th {\n",
       "        vertical-align: top;\n",
       "    }\n",
       "\n",
       "    .dataframe thead th {\n",
       "        text-align: right;\n",
       "    }\n",
       "</style>\n",
       "<table border=\"1\" class=\"dataframe\">\n",
       "  <thead>\n",
       "    <tr style=\"text-align: right;\">\n",
       "      <th></th>\n",
       "      <th>satisfaction</th>\n",
       "      <th>Gender</th>\n",
       "      <th>Customer Type</th>\n",
       "      <th>Age</th>\n",
       "      <th>Type of Travel</th>\n",
       "      <th>Class</th>\n",
       "      <th>Flight Distance</th>\n",
       "      <th>Seat comfort</th>\n",
       "      <th>Departure/Arrival time convenient</th>\n",
       "      <th>Food and drink</th>\n",
       "      <th>...</th>\n",
       "      <th>Online support</th>\n",
       "      <th>Ease of Online booking</th>\n",
       "      <th>On-board service</th>\n",
       "      <th>Leg room service</th>\n",
       "      <th>Baggage handling</th>\n",
       "      <th>Checkin service</th>\n",
       "      <th>Cleanliness</th>\n",
       "      <th>Online boarding</th>\n",
       "      <th>Departure Delay in Minutes</th>\n",
       "      <th>Arrival Delay in Minutes</th>\n",
       "    </tr>\n",
       "  </thead>\n",
       "  <tbody>\n",
       "    <tr>\n",
       "      <th>0</th>\n",
       "      <td>satisfied</td>\n",
       "      <td>Female</td>\n",
       "      <td>Loyal Customer</td>\n",
       "      <td>65</td>\n",
       "      <td>Personal Travel</td>\n",
       "      <td>Eco</td>\n",
       "      <td>265</td>\n",
       "      <td>0</td>\n",
       "      <td>0</td>\n",
       "      <td>0</td>\n",
       "      <td>...</td>\n",
       "      <td>2</td>\n",
       "      <td>3</td>\n",
       "      <td>3</td>\n",
       "      <td>0</td>\n",
       "      <td>3</td>\n",
       "      <td>5</td>\n",
       "      <td>3</td>\n",
       "      <td>2</td>\n",
       "      <td>0</td>\n",
       "      <td>0.0</td>\n",
       "    </tr>\n",
       "    <tr>\n",
       "      <th>1</th>\n",
       "      <td>satisfied</td>\n",
       "      <td>Male</td>\n",
       "      <td>Loyal Customer</td>\n",
       "      <td>47</td>\n",
       "      <td>Personal Travel</td>\n",
       "      <td>Business</td>\n",
       "      <td>2464</td>\n",
       "      <td>0</td>\n",
       "      <td>0</td>\n",
       "      <td>0</td>\n",
       "      <td>...</td>\n",
       "      <td>2</td>\n",
       "      <td>3</td>\n",
       "      <td>4</td>\n",
       "      <td>4</td>\n",
       "      <td>4</td>\n",
       "      <td>2</td>\n",
       "      <td>3</td>\n",
       "      <td>2</td>\n",
       "      <td>310</td>\n",
       "      <td>305.0</td>\n",
       "    </tr>\n",
       "    <tr>\n",
       "      <th>2</th>\n",
       "      <td>satisfied</td>\n",
       "      <td>Female</td>\n",
       "      <td>Loyal Customer</td>\n",
       "      <td>15</td>\n",
       "      <td>Personal Travel</td>\n",
       "      <td>Eco</td>\n",
       "      <td>2138</td>\n",
       "      <td>0</td>\n",
       "      <td>0</td>\n",
       "      <td>0</td>\n",
       "      <td>...</td>\n",
       "      <td>2</td>\n",
       "      <td>2</td>\n",
       "      <td>3</td>\n",
       "      <td>3</td>\n",
       "      <td>4</td>\n",
       "      <td>4</td>\n",
       "      <td>4</td>\n",
       "      <td>2</td>\n",
       "      <td>0</td>\n",
       "      <td>0.0</td>\n",
       "    </tr>\n",
       "    <tr>\n",
       "      <th>3</th>\n",
       "      <td>satisfied</td>\n",
       "      <td>Female</td>\n",
       "      <td>Loyal Customer</td>\n",
       "      <td>60</td>\n",
       "      <td>Personal Travel</td>\n",
       "      <td>Eco</td>\n",
       "      <td>623</td>\n",
       "      <td>0</td>\n",
       "      <td>0</td>\n",
       "      <td>0</td>\n",
       "      <td>...</td>\n",
       "      <td>3</td>\n",
       "      <td>1</td>\n",
       "      <td>1</td>\n",
       "      <td>0</td>\n",
       "      <td>1</td>\n",
       "      <td>4</td>\n",
       "      <td>1</td>\n",
       "      <td>3</td>\n",
       "      <td>0</td>\n",
       "      <td>0.0</td>\n",
       "    </tr>\n",
       "    <tr>\n",
       "      <th>4</th>\n",
       "      <td>satisfied</td>\n",
       "      <td>Female</td>\n",
       "      <td>Loyal Customer</td>\n",
       "      <td>70</td>\n",
       "      <td>Personal Travel</td>\n",
       "      <td>Eco</td>\n",
       "      <td>354</td>\n",
       "      <td>0</td>\n",
       "      <td>0</td>\n",
       "      <td>0</td>\n",
       "      <td>...</td>\n",
       "      <td>4</td>\n",
       "      <td>2</td>\n",
       "      <td>2</td>\n",
       "      <td>0</td>\n",
       "      <td>2</td>\n",
       "      <td>4</td>\n",
       "      <td>2</td>\n",
       "      <td>5</td>\n",
       "      <td>0</td>\n",
       "      <td>0.0</td>\n",
       "    </tr>\n",
       "  </tbody>\n",
       "</table>\n",
       "<p>5 rows × 23 columns</p>\n",
       "</div>"
      ],
      "text/plain": [
       "  satisfaction  Gender   Customer Type  Age   Type of Travel     Class  \\\n",
       "0    satisfied  Female  Loyal Customer   65  Personal Travel       Eco   \n",
       "1    satisfied    Male  Loyal Customer   47  Personal Travel  Business   \n",
       "2    satisfied  Female  Loyal Customer   15  Personal Travel       Eco   \n",
       "3    satisfied  Female  Loyal Customer   60  Personal Travel       Eco   \n",
       "4    satisfied  Female  Loyal Customer   70  Personal Travel       Eco   \n",
       "\n",
       "   Flight Distance  Seat comfort  Departure/Arrival time convenient  \\\n",
       "0              265             0                                  0   \n",
       "1             2464             0                                  0   \n",
       "2             2138             0                                  0   \n",
       "3              623             0                                  0   \n",
       "4              354             0                                  0   \n",
       "\n",
       "   Food and drink  ...  Online support  Ease of Online booking  \\\n",
       "0               0  ...               2                       3   \n",
       "1               0  ...               2                       3   \n",
       "2               0  ...               2                       2   \n",
       "3               0  ...               3                       1   \n",
       "4               0  ...               4                       2   \n",
       "\n",
       "   On-board service  Leg room service  Baggage handling  Checkin service  \\\n",
       "0                 3                 0                 3                5   \n",
       "1                 4                 4                 4                2   \n",
       "2                 3                 3                 4                4   \n",
       "3                 1                 0                 1                4   \n",
       "4                 2                 0                 2                4   \n",
       "\n",
       "   Cleanliness  Online boarding  Departure Delay in Minutes  \\\n",
       "0            3                2                           0   \n",
       "1            3                2                         310   \n",
       "2            4                2                           0   \n",
       "3            1                3                           0   \n",
       "4            2                5                           0   \n",
       "\n",
       "   Arrival Delay in Minutes  \n",
       "0                       0.0  \n",
       "1                     305.0  \n",
       "2                       0.0  \n",
       "3                       0.0  \n",
       "4                       0.0  \n",
       "\n",
       "[5 rows x 23 columns]"
      ]
     },
     "execution_count": 2,
     "metadata": {},
     "output_type": "execute_result"
    }
   ],
   "source": [
    "# Cargar el dataset\n",
    "df = pd.read_csv(\"Invistico_Airline.csv\")\n",
    "\n",
    "# Mostrar las primeras filas\n",
    "df.head()"
   ]
  },
  {
   "cell_type": "markdown",
   "id": "ccd08b30-39da-4d14-b3c1-0fd603815941",
   "metadata": {},
   "source": [
    "### 🧾 Información general del dataset\n",
    "\n",
    "Este paso permite obtener una visión general de la estructura del dataset:\n",
    "\n",
    "- Cantidad total de registros y columnas\n",
    "- Nombre de cada columna\n",
    "- Cantidad de valores no nulos por columna\n",
    "- Tipo de dato de cada columna (`object`, `int64`, `float64`, etc.)\n",
    "\n",
    "Este análisis sirve como base para:\n",
    "\n",
    "- Detectar posibles columnas con valores nulos\n",
    "- Identificar qué variables son categóricas o numéricas\n",
    "- Evaluar el uso de memoria (útil si el dataset es muy grande)"
   ]
  },
  {
   "cell_type": "code",
   "execution_count": 3,
   "id": "c0c84eb8-75e2-4214-9884-722a019bfff5",
   "metadata": {},
   "outputs": [
    {
     "name": "stdout",
     "output_type": "stream",
     "text": [
      "<class 'pandas.core.frame.DataFrame'>\n",
      "RangeIndex: 129880 entries, 0 to 129879\n",
      "Data columns (total 23 columns):\n",
      " #   Column                             Non-Null Count   Dtype  \n",
      "---  ------                             --------------   -----  \n",
      " 0   satisfaction                       129880 non-null  object \n",
      " 1   Gender                             129880 non-null  object \n",
      " 2   Customer Type                      129880 non-null  object \n",
      " 3   Age                                129880 non-null  int64  \n",
      " 4   Type of Travel                     129880 non-null  object \n",
      " 5   Class                              129880 non-null  object \n",
      " 6   Flight Distance                    129880 non-null  int64  \n",
      " 7   Seat comfort                       129880 non-null  int64  \n",
      " 8   Departure/Arrival time convenient  129880 non-null  int64  \n",
      " 9   Food and drink                     129880 non-null  int64  \n",
      " 10  Gate location                      129880 non-null  int64  \n",
      " 11  Inflight wifi service              129880 non-null  int64  \n",
      " 12  Inflight entertainment             129880 non-null  int64  \n",
      " 13  Online support                     129880 non-null  int64  \n",
      " 14  Ease of Online booking             129880 non-null  int64  \n",
      " 15  On-board service                   129880 non-null  int64  \n",
      " 16  Leg room service                   129880 non-null  int64  \n",
      " 17  Baggage handling                   129880 non-null  int64  \n",
      " 18  Checkin service                    129880 non-null  int64  \n",
      " 19  Cleanliness                        129880 non-null  int64  \n",
      " 20  Online boarding                    129880 non-null  int64  \n",
      " 21  Departure Delay in Minutes         129880 non-null  int64  \n",
      " 22  Arrival Delay in Minutes           129487 non-null  float64\n",
      "dtypes: float64(1), int64(17), object(5)\n",
      "memory usage: 22.8+ MB\n"
     ]
    }
   ],
   "source": [
    "df.info()"
   ]
  },
  {
   "cell_type": "markdown",
   "id": "62250d5e-e03f-4d96-9a3a-cd6d9bbf78b3",
   "metadata": {},
   "source": [
    "### 🔍 Análisis de valores nulos\n",
    "\n",
    "Este paso permite identificar columnas que tienen datos faltantes (valores nulos) en el dataset.  \n",
    "Esto es importante para decidir si los eliminamos, los imputamos o aplicamos algún otro tratamiento antes del modelado."
   ]
  },
  {
   "cell_type": "code",
   "execution_count": 7,
   "id": "caf2314a-2e52-47e5-aef5-72d16ac70529",
   "metadata": {},
   "outputs": [
    {
     "data": {
      "text/plain": [
       "Arrival Delay in Minutes             393\n",
       "Inflight entertainment                 0\n",
       "Departure Delay in Minutes             0\n",
       "Online boarding                        0\n",
       "Cleanliness                            0\n",
       "Checkin service                        0\n",
       "Baggage handling                       0\n",
       "Leg room service                       0\n",
       "On-board service                       0\n",
       "Ease of Online booking                 0\n",
       "Online support                         0\n",
       "satisfaction                           0\n",
       "Gender                                 0\n",
       "Gate location                          0\n",
       "Food and drink                         0\n",
       "Departure/Arrival time convenient      0\n",
       "Seat comfort                           0\n",
       "Flight Distance                        0\n",
       "Class                                  0\n",
       "Type of Travel                         0\n",
       "Age                                    0\n",
       "Customer Type                          0\n",
       "Inflight wifi service                  0\n",
       "dtype: int64"
      ]
     },
     "execution_count": 7,
     "metadata": {},
     "output_type": "execute_result"
    }
   ],
   "source": [
    "df.isnull().sum().sort_values(ascending=False)"
   ]
  },
  {
   "cell_type": "markdown",
   "id": "dca5f07b-3342-487f-b965-c047748e23c8",
   "metadata": {},
   "source": [
    "### 🧼 Análisis y tratamiento de valores nulos en `Arrival Delay in Minutes`\n",
    "\n",
    "Durante la etapa de análisis exploratorio de datos (EDA), se detectó que la columna `Arrival Delay in Minutes` contiene **393 valores nulos**, lo cual representa aproximadamente un **0.3% del total del dataset (129.880 registros)**.\n",
    "\n",
    "Dado que esta variable puede aportar información valiosa al modelo de predicción de satisfacción (por ejemplo, se espera que los pasajeros con mayores retrasos estén más insatisfechos), **no se eliminó** directamente, sino que se evaluaron opciones de imputación.\n",
    "\n",
    "#### 🔍 ¿Por qué imputar?\n",
    "\n",
    "La imputación consiste en reemplazar los valores faltantes por un valor estimado. Algunas estrategias comunes incluyen:\n",
    "\n",
    "- **Media**: adecuada cuando la variable tiene una distribución simétrica y sin valores extremos.\n",
    "- **Mediana**: preferible cuando hay valores atípicos o una distribución sesgada, ya que es más robusta frente a outliers.\n",
    "\n",
    "#### 📊 Análisis de la distribución\n",
    "\n",
    "Para tomar una decisión informada, se analizó la distribución de la variable mediante un histograma con curva de densidad. Al observar el gráfico, se puede notar que:\n",
    "\n",
    "- La mayoría de los retrasos está concentrada entre 0 y 10 minutos.\n",
    "- Existen **outliers importantes**, con valores superiores a 1000 minutos.\n",
    "- La distribución es claramente **sesgada a la derecha** (*right-skewed*).\n",
    "\n",
    "#### ✅ Decisión final\n",
    "\n",
    "Dado el comportamiento de la variable, se decidió imputar los valores nulos utilizando la **mediana**, por ser una medida representativa del \"retraso típico\" y menos sensible a valores extremos.\n",
    "\n",
    "Este tratamiento permite conservar esos registros en el dataset sin introducir distorsiones estadísticas significativas."
   ]
  },
  {
   "cell_type": "code",
   "execution_count": 14,
   "id": "02cbc6d5-11ef-4b80-8390-0cda861ec905",
   "metadata": {},
   "outputs": [
    {
     "data": {
      "text/plain": [
       "count    129487.000000\n",
       "mean         15.091129\n",
       "std          38.465650\n",
       "min           0.000000\n",
       "25%           0.000000\n",
       "50%           0.000000\n",
       "75%          13.000000\n",
       "max        1584.000000\n",
       "Name: Arrival Delay in Minutes, dtype: float64"
      ]
     },
     "execution_count": 14,
     "metadata": {},
     "output_type": "execute_result"
    }
   ],
   "source": [
    "# Estadísticas básicas para observar media, mediana y valores extremos\n",
    "df['Arrival Delay in Minutes'].describe()"
   ]
  },
  {
   "cell_type": "code",
   "execution_count": 15,
   "id": "80d7e09b-630d-47c0-b147-b6e2b9912e6c",
   "metadata": {},
   "outputs": [
    {
     "data": {
      "image/png": "[encoded data removed]",
      "text/plain": [
       "<Figure size 640x480 with 1 Axes>"
      ]
     },
     "metadata": {},
     "output_type": "display_data"
    }
   ],
   "source": [
    "# Histograma truncado (hasta 200 minutos) para mejorar la visualización\n",
    "sns.histplot(df[df['Arrival Delay in Minutes'] <= 200]['Arrival Delay in Minutes'], \n",
    "             kde=True, bins=50, color='tomato')\n",
    "\n",
    "plt.title(\"Distribución de Arrival Delay in Minutes (<= 200)\")\n",
    "plt.xlabel(\"Minutos de retraso en la llegada\")\n",
    "plt.ylabel(\"Frecuencia\")\n",
    "plt.show()"
   ]
  },
  {
   "cell_type": "markdown",
   "id": "ba1de2ca-9448-4a35-8d17-f397ae1128c8",
   "metadata": {},
   "source": [
    "#### 📊 Interpretación\n",
    "\n",
    "Al observar las estadísticas descriptivas de la columna `Arrival Delay in Minutes`:\n",
    "\n",
    "- **Mediana (50%)**: 0.0 → la mayoría de los vuelos **no tiene retrasos**\n",
    "- **Media**: 15.1 minutos → afectada por outliers (retrasos muy altos)\n",
    "- **Máximo**: 1584 minutos → valor extremadamente alto\n",
    "- **Desviación estándar**: 38.5 → alta dispersión\n",
    "\n",
    "Estos valores confirman lo observado en la visualización: la variable tiene una distribución **fuertemente sesgada a la derecha**, y por lo tanto **la mediana es una mejor opción para imputar valores faltantes**."
   ]
  },
  {
   "cell_type": "code",
   "execution_count": 18,
   "id": "96376bad-903c-4bc2-83ed-bf6ba8594e1c",
   "metadata": {},
   "outputs": [],
   "source": [
    "# 🧼 Imputación de los valores nulos con la mediana (0.0)\n",
    "df['Arrival Delay in Minutes'] = df['Arrival Delay in Minutes'].fillna(df['Arrival Delay in Minutes'].median())"
   ]
  },
  {
   "cell_type": "code",
   "execution_count": 19,
   "id": "5fdd5850-e156-473c-ad3f-b2975647460e",
   "metadata": {},
   "outputs": [
    {
     "data": {
      "text/plain": [
       "np.int64(0)"
      ]
     },
     "execution_count": 19,
     "metadata": {},
     "output_type": "execute_result"
    }
   ],
   "source": [
    "df['Arrival Delay in Minutes'].isnull().sum()"
   ]
  },
  {
   "cell_type": "markdown",
   "id": "a246f645-25ca-4517-8461-147ad4ac5382",
   "metadata": {},
   "source": [
    "#### ✅ Aplicación de imputación\n",
    "\n",
    "Finalmente, se imputaron los 393 valores nulos en la columna `Arrival Delay in Minutes` utilizando la **mediana** (0.0).  \n",
    "Esto permite conservar los registros sin introducir sesgo causado por valores extremos.\n",
    "\n",
    "Se verificó que ya no quedan valores faltantes en esta columna."
   ]
  },
  {
   "cell_type": "markdown",
   "id": "79fda8d7-e2fb-453a-b1c3-2139388c88c9",
   "metadata": {},
   "source": [
    "### 🎯 Análisis de la variable objetivo: `satisfaction`\n",
    "\n",
    "La variable objetivo de este proyecto es `satisfaction`, que indica si el pasajero quedó **satisfecho** o **insatisfecho** con su experiencia en el vuelo.\n",
    "\n",
    "Para comenzar el análisis, se evaluó la distribución de clases para verificar si el dataset está balanceado."
   ]
  },
  {
   "cell_type": "code",
   "execution_count": 21,
   "id": "98837f3a-6a4d-4a1a-b8b9-f2a171ee8c85",
   "metadata": {},
   "outputs": [
    {
     "data": {
      "image/png": "[encoded data removed]",
      "text/plain": [
       "<Figure size 640x480 with 1 Axes>"
      ]
     },
     "metadata": {},
     "output_type": "display_data"
    }
   ],
   "source": [
    "# Distribución de la variable objetivo (satisfaction)\n",
    "proporciones = df['satisfaction'].value_counts(normalize=True)\n",
    "\n",
    "ax = proporciones.plot(kind='bar', color=['lightgreen', 'salmon'])\n",
    "plt.title(\"Distribución del target: satisfacción del pasajero\")\n",
    "plt.ylabel(\"Proporción\")\n",
    "plt.xticks(rotation=0)\n",
    "\n",
    "# Agregar porcentajes sobre las barras\n",
    "for i, valor in enumerate(proporciones):\n",
    "    plt.text(i, valor + 0.01, f\"{valor:.1%}\", ha='center', fontsize=11)\n",
    "\n",
    "plt.ylim(0, 1)  # para asegurar que los textos no se corten\n",
    "plt.show()"
   ]
  },
  {
   "cell_type": "markdown",
   "id": "13e7c177-abd3-4723-af76-6e0af79ba531",
   "metadata": {},
   "source": [
    "#### 📊 Resultados:\n",
    "\n",
    "- **54.7%** de los pasajeros están **satisfechos**\n",
    "- **45.3%** están **insatisfechos** \n",
    "\n",
    "La distribución está relativamente balanceada."
   ]
  },
  {
   "cell_type": "code",
   "execution_count": null,
   "id": "92ee4e62-91ba-4d65-ba91-0a64793217ce",
   "metadata": {},
   "outputs": [],
   "source": []
  }
 ],
 "metadata": {
  "kernelspec": {
   "display_name": "Python 3 (ipykernel)",
   "language": "python",
   "name": "python3"
  },
  "language_info": {
   "codemirror_mode": {
    "name": "ipython",
    "version": 3
   },
   "file_extension": ".py",
   "mimetype": "text/x-python",
   "name": "python",
   "nbconvert_exporter": "python",
   "pygments_lexer": "ipython3",
   "version": "3.13.2"
  }
 },
 "nbformat": 4,
 "nbformat_minor": 5
}
